{
 "cells": [
  {
   "cell_type": "code",
   "id": "initial_id",
   "metadata": {
    "collapsed": true,
    "jupyter": {
     "is_executing": true
    }
   },
   "source": [
    "import h2o\n",
    "from h2o.automl import H2OAutoML\n",
    "\n",
    "h2o.init(ip=\"localhost\", port=54321)"
   ],
   "outputs": [],
   "execution_count": null
  },
  {
   "metadata": {},
   "cell_type": "code",
   "source": "df = h2o.import_file(\"athletes.csv\")",
   "id": "6d47d665f89017ac",
   "outputs": [],
   "execution_count": null
  },
  {
   "metadata": {
    "jupyter": {
     "is_executing": true
    }
   },
   "cell_type": "code",
   "source": [
    "target = \"target\"\n",
    "features = df.columns\n",
    "features.drop(target)"
   ],
   "id": "76bf2fdeda32a58f",
   "outputs": [],
   "execution_count": null
  },
  {
   "metadata": {},
   "cell_type": "code",
   "source": "train, test = df.split_frame(ratios=[0.8], seed=42)",
   "id": "4e3da43d70f9b834",
   "outputs": [],
   "execution_count": null
  },
  {
   "metadata": {},
   "cell_type": "code",
   "source": [
    "automl = H2OAutoML(max_models=20, seed=42, sort_metric=\"RMSE\")\n",
    "automl.train(x=features, y=target, training_frame=train)"
   ],
   "id": "f69999f00b3b6f29",
   "outputs": [],
   "execution_count": null
  },
  {
   "metadata": {},
   "cell_type": "markdown",
   "source": "## Top 3 Models (All Features)",
   "id": "73054f0c3775bbcb"
  },
  {
   "metadata": {},
   "cell_type": "code",
   "source": "automl.leaderboard.head(rows=3)",
   "id": "d89cfcf1b01ae5f7",
   "outputs": [],
   "execution_count": null
  },
  {
   "metadata": {},
   "cell_type": "markdown",
   "source": "## Top 5 Features (Best Model)",
   "id": "148265394c462a33"
  },
  {
   "metadata": {},
   "cell_type": "code",
   "source": [
    "best_model = automl.leader\n",
    "best_model.varimp(use_pandas=True).head(5)"
   ],
   "id": "eeca99f450e86ba2",
   "outputs": [],
   "execution_count": null
  },
  {
   "metadata": {},
   "cell_type": "markdown",
   "source": "## Retrain with top 3 features",
   "id": "a0a868419cba3bfd"
  },
  {
   "metadata": {},
   "cell_type": "code",
   "source": [
    "top3 = best_model.varimp(use_pandas=True).head(3)['variable'].tolist()\n",
    "\n",
    "automl_top3 = H2OAutoML(max_models=20, seed=1)\n",
    "automl_top3.train(x=top3, y=target, training_frame=train)\n",
    "automl_top3.leaderboard.head(3)"
   ],
   "id": "26e495b049cdd79b",
   "outputs": [],
   "execution_count": null
  }
 ],
 "metadata": {
  "kernelspec": {
   "display_name": "Python 3",
   "language": "python",
   "name": "python3"
  },
  "language_info": {
   "codemirror_mode": {
    "name": "ipython",
    "version": 2
   },
   "file_extension": ".py",
   "mimetype": "text/x-python",
   "name": "python",
   "nbconvert_exporter": "python",
   "pygments_lexer": "ipython2",
   "version": "2.7.6"
  }
 },
 "nbformat": 4,
 "nbformat_minor": 5
}
